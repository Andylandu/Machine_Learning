{
 "cells": [
  {
   "cell_type": "markdown",
   "id": "11b818d1",
   "metadata": {
    "papermill": {
     "duration": 0.003327,
     "end_time": "2024-04-08T08:55:15.574422",
     "exception": false,
     "start_time": "2024-04-08T08:55:15.571095",
     "status": "completed"
    },
    "tags": []
   },
   "source": [
    "# Logistic Regression on the iris dataset"
   ]
  },
  {
   "cell_type": "code",
   "execution_count": 1,
   "id": "07f8e8ae",
   "metadata": {
    "execution": {
     "iopub.execute_input": "2024-04-08T08:55:15.582516Z",
     "iopub.status.busy": "2024-04-08T08:55:15.582074Z",
     "iopub.status.idle": "2024-04-08T08:55:17.066542Z",
     "shell.execute_reply": "2024-04-08T08:55:17.065301Z"
    },
    "papermill": {
     "duration": 1.49182,
     "end_time": "2024-04-08T08:55:17.069296",
     "exception": false,
     "start_time": "2024-04-08T08:55:15.577476",
     "status": "completed"
    },
    "tags": []
   },
   "outputs": [],
   "source": [
    "from sklearn import datasets\n",
    "from sklearn.model_selection import train_test_split\n",
    "from sklearn.linear_model import LogisticRegression\n",
    "from sklearn.metrics import accuracy_score"
   ]
  },
  {
   "cell_type": "code",
   "execution_count": 2,
   "id": "b19d560b",
   "metadata": {
    "execution": {
     "iopub.execute_input": "2024-04-08T08:55:17.077310Z",
     "iopub.status.busy": "2024-04-08T08:55:17.076847Z",
     "iopub.status.idle": "2024-04-08T08:55:17.087989Z",
     "shell.execute_reply": "2024-04-08T08:55:17.086995Z"
    },
    "papermill": {
     "duration": 0.017815,
     "end_time": "2024-04-08T08:55:17.090382",
     "exception": false,
     "start_time": "2024-04-08T08:55:17.072567",
     "status": "completed"
    },
    "tags": []
   },
   "outputs": [],
   "source": [
    "# Load the iris dataset\n",
    "iris = datasets.load_iris()"
   ]
  },
  {
   "cell_type": "code",
   "execution_count": 3,
   "id": "50f0f81d",
   "metadata": {
    "execution": {
     "iopub.execute_input": "2024-04-08T08:55:17.097871Z",
     "iopub.status.busy": "2024-04-08T08:55:17.097469Z",
     "iopub.status.idle": "2024-04-08T08:55:17.105361Z",
     "shell.execute_reply": "2024-04-08T08:55:17.104210Z"
    },
    "papermill": {
     "duration": 0.014158,
     "end_time": "2024-04-08T08:55:17.107546",
     "exception": false,
     "start_time": "2024-04-08T08:55:17.093388",
     "status": "completed"
    },
    "tags": []
   },
   "outputs": [],
   "source": [
    "# Split the dataset into training and testing sets\n",
    "X_train, X_test, y_train, y_test = train_test_split(iris.data, iris.target, test_size=0.2, random_state=10)"
   ]
  },
  {
   "cell_type": "code",
   "execution_count": 4,
   "id": "33ba5177",
   "metadata": {
    "execution": {
     "iopub.execute_input": "2024-04-08T08:55:17.114865Z",
     "iopub.status.busy": "2024-04-08T08:55:17.114477Z",
     "iopub.status.idle": "2024-04-08T08:55:17.118986Z",
     "shell.execute_reply": "2024-04-08T08:55:17.117917Z"
    },
    "papermill": {
     "duration": 0.010553,
     "end_time": "2024-04-08T08:55:17.121025",
     "exception": false,
     "start_time": "2024-04-08T08:55:17.110472",
     "status": "completed"
    },
    "tags": []
   },
   "outputs": [],
   "source": [
    "# Create a logistic regression model\n",
    "model = LogisticRegression()"
   ]
  },
  {
   "cell_type": "code",
   "execution_count": 5,
   "id": "3574b9d5",
   "metadata": {
    "execution": {
     "iopub.execute_input": "2024-04-08T08:55:17.128259Z",
     "iopub.status.busy": "2024-04-08T08:55:17.127759Z",
     "iopub.status.idle": "2024-04-08T08:55:17.166345Z",
     "shell.execute_reply": "2024-04-08T08:55:17.165217Z"
    },
    "papermill": {
     "duration": 0.04473,
     "end_time": "2024-04-08T08:55:17.168607",
     "exception": false,
     "start_time": "2024-04-08T08:55:17.123877",
     "status": "completed"
    },
    "tags": []
   },
   "outputs": [
    {
     "data": {
      "text/html": [
       "<style>#sk-container-id-1 {color: black;background-color: white;}#sk-container-id-1 pre{padding: 0;}#sk-container-id-1 div.sk-toggleable {background-color: white;}#sk-container-id-1 label.sk-toggleable__label {cursor: pointer;display: block;width: 100%;margin-bottom: 0;padding: 0.3em;box-sizing: border-box;text-align: center;}#sk-container-id-1 label.sk-toggleable__label-arrow:before {content: \"▸\";float: left;margin-right: 0.25em;color: #696969;}#sk-container-id-1 label.sk-toggleable__label-arrow:hover:before {color: black;}#sk-container-id-1 div.sk-estimator:hover label.sk-toggleable__label-arrow:before {color: black;}#sk-container-id-1 div.sk-toggleable__content {max-height: 0;max-width: 0;overflow: hidden;text-align: left;background-color: #f0f8ff;}#sk-container-id-1 div.sk-toggleable__content pre {margin: 0.2em;color: black;border-radius: 0.25em;background-color: #f0f8ff;}#sk-container-id-1 input.sk-toggleable__control:checked~div.sk-toggleable__content {max-height: 200px;max-width: 100%;overflow: auto;}#sk-container-id-1 input.sk-toggleable__control:checked~label.sk-toggleable__label-arrow:before {content: \"▾\";}#sk-container-id-1 div.sk-estimator input.sk-toggleable__control:checked~label.sk-toggleable__label {background-color: #d4ebff;}#sk-container-id-1 div.sk-label input.sk-toggleable__control:checked~label.sk-toggleable__label {background-color: #d4ebff;}#sk-container-id-1 input.sk-hidden--visually {border: 0;clip: rect(1px 1px 1px 1px);clip: rect(1px, 1px, 1px, 1px);height: 1px;margin: -1px;overflow: hidden;padding: 0;position: absolute;width: 1px;}#sk-container-id-1 div.sk-estimator {font-family: monospace;background-color: #f0f8ff;border: 1px dotted black;border-radius: 0.25em;box-sizing: border-box;margin-bottom: 0.5em;}#sk-container-id-1 div.sk-estimator:hover {background-color: #d4ebff;}#sk-container-id-1 div.sk-parallel-item::after {content: \"\";width: 100%;border-bottom: 1px solid gray;flex-grow: 1;}#sk-container-id-1 div.sk-label:hover label.sk-toggleable__label {background-color: #d4ebff;}#sk-container-id-1 div.sk-serial::before {content: \"\";position: absolute;border-left: 1px solid gray;box-sizing: border-box;top: 0;bottom: 0;left: 50%;z-index: 0;}#sk-container-id-1 div.sk-serial {display: flex;flex-direction: column;align-items: center;background-color: white;padding-right: 0.2em;padding-left: 0.2em;position: relative;}#sk-container-id-1 div.sk-item {position: relative;z-index: 1;}#sk-container-id-1 div.sk-parallel {display: flex;align-items: stretch;justify-content: center;background-color: white;position: relative;}#sk-container-id-1 div.sk-item::before, #sk-container-id-1 div.sk-parallel-item::before {content: \"\";position: absolute;border-left: 1px solid gray;box-sizing: border-box;top: 0;bottom: 0;left: 50%;z-index: -1;}#sk-container-id-1 div.sk-parallel-item {display: flex;flex-direction: column;z-index: 1;position: relative;background-color: white;}#sk-container-id-1 div.sk-parallel-item:first-child::after {align-self: flex-end;width: 50%;}#sk-container-id-1 div.sk-parallel-item:last-child::after {align-self: flex-start;width: 50%;}#sk-container-id-1 div.sk-parallel-item:only-child::after {width: 0;}#sk-container-id-1 div.sk-dashed-wrapped {border: 1px dashed gray;margin: 0 0.4em 0.5em 0.4em;box-sizing: border-box;padding-bottom: 0.4em;background-color: white;}#sk-container-id-1 div.sk-label label {font-family: monospace;font-weight: bold;display: inline-block;line-height: 1.2em;}#sk-container-id-1 div.sk-label-container {text-align: center;}#sk-container-id-1 div.sk-container {/* jupyter's `normalize.less` sets `[hidden] { display: none; }` but bootstrap.min.css set `[hidden] { display: none !important; }` so we also need the `!important` here to be able to override the default hidden behavior on the sphinx rendered scikit-learn.org. See: https://github.com/scikit-learn/scikit-learn/issues/21755 */display: inline-block !important;position: relative;}#sk-container-id-1 div.sk-text-repr-fallback {display: none;}</style><div id=\"sk-container-id-1\" class=\"sk-top-container\"><div class=\"sk-text-repr-fallback\"><pre>LogisticRegression()</pre><b>In a Jupyter environment, please rerun this cell to show the HTML representation or trust the notebook. <br />On GitHub, the HTML representation is unable to render, please try loading this page with nbviewer.org.</b></div><div class=\"sk-container\" hidden><div class=\"sk-item\"><div class=\"sk-estimator sk-toggleable\"><input class=\"sk-toggleable__control sk-hidden--visually\" id=\"sk-estimator-id-1\" type=\"checkbox\" checked><label for=\"sk-estimator-id-1\" class=\"sk-toggleable__label sk-toggleable__label-arrow\">LogisticRegression</label><div class=\"sk-toggleable__content\"><pre>LogisticRegression()</pre></div></div></div></div></div>"
      ],
      "text/plain": [
       "LogisticRegression()"
      ]
     },
     "execution_count": 5,
     "metadata": {},
     "output_type": "execute_result"
    }
   ],
   "source": [
    "# Train the model\n",
    "model.fit(X_train, y_train)"
   ]
  },
  {
   "cell_type": "code",
   "execution_count": 6,
   "id": "54b034f5",
   "metadata": {
    "execution": {
     "iopub.execute_input": "2024-04-08T08:55:17.177122Z",
     "iopub.status.busy": "2024-04-08T08:55:17.176120Z",
     "iopub.status.idle": "2024-04-08T08:55:17.180777Z",
     "shell.execute_reply": "2024-04-08T08:55:17.179934Z"
    },
    "papermill": {
     "duration": 0.010984,
     "end_time": "2024-04-08T08:55:17.182843",
     "exception": false,
     "start_time": "2024-04-08T08:55:17.171859",
     "status": "completed"
    },
    "tags": []
   },
   "outputs": [],
   "source": [
    "# Make predictions on the test set\n",
    "y_pred = model.predict(X_test)"
   ]
  },
  {
   "cell_type": "code",
   "execution_count": 7,
   "id": "e997834e",
   "metadata": {
    "execution": {
     "iopub.execute_input": "2024-04-08T08:55:17.191223Z",
     "iopub.status.busy": "2024-04-08T08:55:17.190320Z",
     "iopub.status.idle": "2024-04-08T08:55:17.195174Z",
     "shell.execute_reply": "2024-04-08T08:55:17.194276Z"
    },
    "papermill": {
     "duration": 0.01108,
     "end_time": "2024-04-08T08:55:17.197169",
     "exception": false,
     "start_time": "2024-04-08T08:55:17.186089",
     "status": "completed"
    },
    "tags": []
   },
   "outputs": [],
   "source": [
    "# Calculate the accuracy of the model\n",
    "accuracy = accuracy_score(y_test, y_pred)"
   ]
  },
  {
   "cell_type": "code",
   "execution_count": 8,
   "id": "7bec353c",
   "metadata": {
    "execution": {
     "iopub.execute_input": "2024-04-08T08:55:17.204579Z",
     "iopub.status.busy": "2024-04-08T08:55:17.204218Z",
     "iopub.status.idle": "2024-04-08T08:55:17.209268Z",
     "shell.execute_reply": "2024-04-08T08:55:17.208284Z"
    },
    "papermill": {
     "duration": 0.011109,
     "end_time": "2024-04-08T08:55:17.211385",
     "exception": false,
     "start_time": "2024-04-08T08:55:17.200276",
     "status": "completed"
    },
    "tags": []
   },
   "outputs": [
    {
     "name": "stdout",
     "output_type": "stream",
     "text": [
      "Accuracy: 1.00\n"
     ]
    }
   ],
   "source": [
    "print(f\"Accuracy: {accuracy:0.2f}\")"
   ]
  }
 ],
 "metadata": {
  "kaggle": {
   "accelerator": "none",
   "dataSources": [],
   "dockerImageVersionId": 30673,
   "isGpuEnabled": false,
   "isInternetEnabled": true,
   "language": "python",
   "sourceType": "notebook"
  },
  "kernelspec": {
   "display_name": "Python 3",
   "language": "python",
   "name": "python3"
  },
  "language_info": {
   "codemirror_mode": {
    "name": "ipython",
    "version": 3
   },
   "file_extension": ".py",
   "mimetype": "text/x-python",
   "name": "python",
   "nbconvert_exporter": "python",
   "pygments_lexer": "ipython3",
   "version": "3.10.13"
  },
  "papermill": {
   "default_parameters": {},
   "duration": 7.039922,
   "end_time": "2024-04-08T08:55:19.844869",
   "environment_variables": {},
   "exception": null,
   "input_path": "__notebook__.ipynb",
   "output_path": "__notebook__.ipynb",
   "parameters": {},
   "start_time": "2024-04-08T08:55:12.804947",
   "version": "2.5.0"
  }
 },
 "nbformat": 4,
 "nbformat_minor": 5
}
